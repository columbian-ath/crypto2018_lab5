{
 "cells": [
  {
   "cell_type": "code",
   "execution_count": 1,
   "metadata": {},
   "outputs": [],
   "source": [
    "import secrets\n",
    "import random\n",
    "import math"
   ]
  },
  {
   "cell_type": "markdown",
   "metadata": {},
   "source": [
    "Tools to find modular inverse"
   ]
  },
  {
   "cell_type": "code",
   "execution_count": 2,
   "metadata": {},
   "outputs": [],
   "source": [
    "class Error(Exception):\n",
    "    \"\"\"Base class for exceptions in this module.\"\"\"\n",
    "    pass\n",
    "\n",
    "class ModuloError(Error):\n",
    "    \"\"\"Exception raised for errors in the input.\n",
    "\n",
    "    Attributes:\n",
    "        message -- explanation of the error\n",
    "    \"\"\"\n",
    "\n",
    "    def __init__(self, message):\n",
    "        self.message = message"
   ]
  },
  {
   "cell_type": "code",
   "execution_count": 3,
   "metadata": {},
   "outputs": [],
   "source": [
    "def egcd(a, b):\n",
    "    '''ax + by = g = gcd(a, b)\n",
    "       returns (g, x, y)'''\n",
    "    if a == 0:\n",
    "        return (b, 0, 1)\n",
    "    else:\n",
    "        g, y, x = egcd(b % a, a)\n",
    "        return (g, x - (b // a) * y, y)"
   ]
  },
  {
   "cell_type": "code",
   "execution_count": 4,
   "metadata": {},
   "outputs": [],
   "source": [
    "def modinv(a, n):\n",
    "    '''Finding inverse of a mod n'''\n",
    "    g, x, y = egcd(a, n)\n",
    "    if abs(g) != 1:\n",
    "        raise ModuloError(\"Inverse doesn't exist\")\n",
    "    else:\n",
    "        return x % n"
   ]
  },
  {
   "cell_type": "code",
   "execution_count": 6,
   "metadata": {},
   "outputs": [
    {
     "data": {
      "text/plain": [
       "46703207172867055440606820351900522440782435780355529386658723515136428255651018779627790318472064623024002458727091824305101189693338174273839942594927884289"
      ]
     },
     "execution_count": 6,
     "metadata": {},
     "output_type": "execute_result"
    }
   ],
   "source": [
    "modinv(65537, )"
   ]
  },
  {
   "cell_type": "markdown",
   "metadata": {},
   "source": [
    "Prime numbers from 2 to 1000 to pre-check of generated numbers before miller-rabin test"
   ]
  },
  {
   "cell_type": "code",
   "execution_count": 5,
   "metadata": {},
   "outputs": [],
   "source": [
    "possible_div = [3,5,7,11,13,17,19,23,29,31,37,41,43,47,53,59,61,67,71,73,79,83,89,97\n",
    "                   ,101,103,107,109,113,127,131,137,139,149,151,157,163,167,173,179\n",
    "                   ,181,191,193,197,199,211,223,227,229,233,239,241,251,257,263,269\n",
    "                   ,271,277,281,283,293,307,311,313,317,331,337,347,349,353,359,367\n",
    "                   ,373,379,383,389,397,401,409,419,421,431,433,439,443,449,457,461\n",
    "                   ,463,467,479,487,491,499,503,509,521,523,541,547,557,563,569,571\n",
    "                   ,577,587,593,599,601,607,613,617,619,631,641,643,647,653,659,661\n",
    "                   ,673,677,683,691,701,709,719,727,733,739,743,751,757,761,769,773\n",
    "                   ,787,797,809,811,821,823,827,829,839,853,857,859,863,877,881,883\n",
    "                   ,887,907,911,919,929,937,941,947,953,967,971,977,983,991,997]"
   ]
  },
  {
   "cell_type": "markdown",
   "metadata": {},
   "source": [
    "Geberates random numbers of length bit_len with first_bit ==1. That guarantees that the number will have bit_len bits."
   ]
  },
  {
   "cell_type": "code",
   "execution_count": 6,
   "metadata": {},
   "outputs": [],
   "source": [
    "def generate_random_num(bit_len):\n",
    "    random_num = secrets.randbits(bit_len) #generate random int of length bit_len bits\n",
    "    random_num |= 1 << (bit_len - 1)\n",
    "    return random_num"
   ]
  },
  {
   "cell_type": "markdown",
   "metadata": {},
   "source": [
    "Primarity test"
   ]
  },
  {
   "cell_type": "code",
   "execution_count": 7,
   "metadata": {},
   "outputs": [],
   "source": [
    "def miller_rabin(p, k=5):\n",
    "    #step 0\n",
    "    #finding p-1 = d * 2^s \n",
    "    d = p-1\n",
    "    s = 0\n",
    "    while(d % 2 == 0):\n",
    "        d//=2\n",
    "        s+=1\n",
    "    def check_witness(x):\n",
    "        x_pow_d = pow(x, d, p)\n",
    "        if (x_pow_d == 1) or (x_pow_d == p - 1):\n",
    "            return True\n",
    "        #2.2 for r in [1,s-1]  check:\n",
    "        xr_cache = x_pow_d\n",
    "        for r in range(1, s):\n",
    "            xr = pow(xr_cache,2, p)\n",
    "            if xr == (p-1):\n",
    "                return True\n",
    "            elif xr == 1:\n",
    "                #print(\"P is not strong pseudoprime to base {}\".format(x))\n",
    "                return False\n",
    "            xr_cache = xr\n",
    "            #print(\"P is not strong pseudoprime to base {}\".format(x))\n",
    "        return False\n",
    "    \n",
    "    for i in range(k):\n",
    "        #step 1 \n",
    "        #choosing x (natural) from 'interval (2,p) independently from previous x\n",
    "        x = random.randrange(2, p) \n",
    "        # finding gcd(x, p) using euclidian algo\n",
    "        g = math.gcd(x, p)\n",
    "        # if gcd = 1, go to step 2. Else: p isn't prime, quit\n",
    "        if (g > 1):\n",
    "            return False\n",
    "        #step 2\n",
    "        #checking if p is strong pseudoprime to base x\n",
    "        #2.1 if x^d mod p == +-1, p is strong pseudoprime to base x, else go to step 2.2\n",
    "        if (check_witness(x) == 0):\n",
    "            return False        \n",
    "    return True"
   ]
  },
  {
   "cell_type": "code",
   "execution_count": 124,
   "metadata": {},
   "outputs": [
    {
     "name": "stdout",
     "output_type": "stream",
     "text": [
      "981\n"
     ]
    },
    {
     "data": {
      "text/plain": [
       "False"
      ]
     },
     "execution_count": 124,
     "metadata": {},
     "output_type": "execute_result"
    }
   ],
   "source": [
    "p = generate_random_num(10)\n",
    "print(p)\n",
    "miller_rabin(p)"
   ]
  },
  {
   "cell_type": "markdown",
   "metadata": {},
   "source": [
    "Checks if given number is prime"
   ]
  },
  {
   "cell_type": "code",
   "execution_count": 15,
   "metadata": {},
   "outputs": [],
   "source": [
    "def is_prime(random_num):\n",
    "    for div in possible_div:\n",
    "            if (random_num % div) == 0:\n",
    "                break\n",
    "    if (miller_rabin(random_num, 5)):\n",
    "            return True\n",
    "    else:\n",
    "            return False"
   ]
  },
  {
   "cell_type": "markdown",
   "metadata": {},
   "source": [
    "Generates prime numbers of bit_len"
   ]
  },
  {
   "cell_type": "code",
   "execution_count": 16,
   "metadata": {},
   "outputs": [],
   "source": [
    "def generate_prime(bit_len):\n",
    "    while(True):\n",
    "        random_num = generate_random_num(bit_len)\n",
    "        for div in possible_div:\n",
    "            if (random_num % div) == 0:\n",
    "                break\n",
    "        if (miller_rabin(random_num, 5)):\n",
    "            return random_num"
   ]
  },
  {
   "cell_type": "code",
   "execution_count": 17,
   "metadata": {},
   "outputs": [
    {
     "data": {
      "text/plain": [
       "110727536460453745377273474661969016805954703172504266356961188273692796039049977424324636478303055673006323824123549956297652920156829989931460416398663123790796828599637520070774612458086848104696386742374462855856207343988703740647461262308232642067599156199240510922169899681726928425382768282472785422123"
      ]
     },
     "execution_count": 17,
     "metadata": {},
     "output_type": "execute_result"
    }
   ],
   "source": [
    "generate_prime(1024)"
   ]
  },
  {
   "cell_type": "markdown",
   "metadata": {},
   "source": [
    "Generates number p where p-1 has large prime divisors"
   ]
  },
  {
   "cell_type": "code",
   "execution_count": 32,
   "metadata": {},
   "outputs": [],
   "source": [
    "def good_rsa_prime(bit_len):\n",
    "    prime = generate_prime(bit_len)\n",
    "    for i in range(1,1000):\n",
    "        if is_prime(2*i*prime + 1):\n",
    "            prime = 2*i*prime + 1\n",
    "            return prime\n",
    "    return good_rsa_prime(bit_len)"
   ]
  },
  {
   "cell_type": "code",
   "execution_count": 33,
   "metadata": {},
   "outputs": [
    {
     "data": {
      "text/plain": [
       "325122933329646928110477705175332141816687786051176947460769685757805150610419477111513067251925444275849060222140951509216375113936155282278184879931059322599553089216942058573967408180704985506574790349583815783568082829144389133309133164068630138746455294236613489312558940146366033903774589867869121515489287"
      ]
     },
     "execution_count": 33,
     "metadata": {},
     "output_type": "execute_result"
    }
   ],
   "source": [
    "good_rsa_prime(1024)"
   ]
  },
  {
   "cell_type": "markdown",
   "metadata": {},
   "source": [
    "Generating primes p i q of length bit_len. There are two possible variants:\n",
    "    - We have public key(n1,e1) of receiver B. So we have to generate public(n,e)\n",
    "    and private key (d,p,q) for sender A. The rule for keys: n1>=n. If n1<n, regenerate p and q for sender A until n1>=n. Call function create_A_key(bit_len, n1)\n",
    "    -We generate keys for both A and B. The rule for keys: n1>=n. If n1<n, swap places keys of A and B. Create function create_A_B_keys(bit_len)."
   ]
  },
  {
   "cell_type": "markdown",
   "metadata": {},
   "source": [
    "Generating 4 prime numbers and making sure p*q <= p1*q1"
   ]
  },
  {
   "cell_type": "code",
   "execution_count": 35,
   "metadata": {},
   "outputs": [],
   "source": [
    "def create_A_B_keys(bit_len):\n",
    "    p, p1, q1, q = good_rsa_prime(bit_len), good_rsa_prime(bit_len), good_rsa_prime(bit_len), good_rsa_prime(bit_len)\n",
    "    if p*q > p1*q1:\n",
    "        p, p1, q, q1 = p1, p, q1, q\n",
    "    assert p*q <= p1*q1\n",
    "    return p, q, p1, q1"
   ]
  },
  {
   "cell_type": "code",
   "execution_count": 36,
   "metadata": {},
   "outputs": [
    {
     "data": {
      "text/plain": [
       "(2921369837006012005082503126520214648547366891362904454226476118082167097602724783847462958220745451700733125576881193941653245871483421033145756319660310373,\n",
       " 1699872748748085977964004751008721922801017786726792608431720970031003669291202199097915426157313343255965346626100883853317037770102239983885048731810306487,\n",
       " 6150025848628223747747529921960864842951059894270269710888296212059229885830176333738186947379976327037952282262975639841405415149234187599035799210723335269,\n",
       " 12183822664090472700056454995819212278759941006457324730039557821912142980761436062639239347290035177766607074592876568676455461074577837355516538038034368547)"
      ]
     },
     "execution_count": 36,
     "metadata": {},
     "output_type": "execute_result"
    }
   ],
   "source": [
    "create_A_B_keys(512)"
   ]
  },
  {
   "cell_type": "code",
   "execution_count": 40,
   "metadata": {},
   "outputs": [],
   "source": [
    "n_test = 2921369837006012005082503126520214648547366891362904454226476118082167097602724783847462958220745451700733125576881193941653245871483421033145756319660310373 * 1699872748748085977964004751008721922801017786726792608431720970031003669291202199097915426157313343255965346626100883853317037770102239983885048731810306487 "
   ]
  },
  {
   "cell_type": "code",
   "execution_count": 38,
   "metadata": {},
   "outputs": [],
   "source": [
    "def create_A_key(bit_len, n1):\n",
    "    n = math.inf\n",
    "    while(n1<n):\n",
    "        p, q = good_rsa_prime(bit_len), good_rsa_prime(bit_len)\n",
    "        n = p*q\n",
    "    return p, q"
   ]
  },
  {
   "cell_type": "code",
   "execution_count": 41,
   "metadata": {},
   "outputs": [
    {
     "data": {
      "text/plain": [
       "(1660606862936201377532266556395437386909937582668619353964781647603799352005108935526029657260594561725751998083238607623182119165612394351047628716853424409,\n",
       " 1452328117707243421873431048013614411049862739274875268142959049924161102134488333446757572470233843081565423571032115422882688776326777285193610662798783401)"
      ]
     },
     "execution_count": 41,
     "metadata": {},
     "output_type": "execute_result"
    }
   ],
   "source": [
    "create_A_key(512, n_test )"
   ]
  },
  {
   "cell_type": "markdown",
   "metadata": {},
   "source": [
    "GenerateKeyPair procedure for RSA, creates public and private keys for one abonent"
   ]
  },
  {
   "cell_type": "code",
   "execution_count": 42,
   "metadata": {},
   "outputs": [],
   "source": [
    "def GenerateKeyPair(p, q):\n",
    "    n = p * q\n",
    "    phi = (p-1) * (q-1)\n",
    "    e = pow(2, 16) + 1\n",
    "    if (math.gcd(e, q-1) != 1 or math.gcd(e,p-1)!=1):\n",
    "        e = generate_prime(17)\n",
    "    assert e>2 and e <= (phi - 1)\n",
    "    assert math.gcd(e, phi) ==1\n",
    "    d = modinv(e, phi)\n",
    "    private_key = d, p, q\n",
    "    public_key = n, e\n",
    "    return public_key, private_key"
   ]
  },
  {
   "cell_type": "code",
   "execution_count": 44,
   "metadata": {},
   "outputs": [],
   "source": [
    "p, q, p1, q1 = create_A_B_keys(512)"
   ]
  },
  {
   "cell_type": "markdown",
   "metadata": {},
   "source": [
    "Generate public and private keys for abonent A"
   ]
  },
  {
   "cell_type": "code",
   "execution_count": 49,
   "metadata": {},
   "outputs": [],
   "source": [
    "public_key_A, private_key_A = GenerateKeyPair(p, q)"
   ]
  },
  {
   "cell_type": "markdown",
   "metadata": {},
   "source": [
    "Generate public and private keys for abonent B"
   ]
  },
  {
   "cell_type": "code",
   "execution_count": 50,
   "metadata": {},
   "outputs": [],
   "source": [
    "public_key_B, private_key_B = GenerateKeyPair(p, q)"
   ]
  },
  {
   "cell_type": "markdown",
   "metadata": {},
   "source": [
    "Creates message of random hex values, if hexi=True turns decimal value to hex string"
   ]
  },
  {
   "cell_type": "code",
   "execution_count": 60,
   "metadata": {},
   "outputs": [],
   "source": [
    "def GenerateMessage(bit_len, hexi=False):\n",
    "    M = generate_random_num(bit_len)\n",
    "    return hex(M) if hexi else M"
   ]
  },
  {
   "cell_type": "code",
   "execution_count": 61,
   "metadata": {},
   "outputs": [
    {
     "data": {
      "text/plain": [
       "'0x9316eca5a751722d3f4b91103074c2c4e80e1afd69a9ffd94621d8781e417ce017506a0da94'"
      ]
     },
     "execution_count": 61,
     "metadata": {},
     "output_type": "execute_result"
    }
   ],
   "source": [
    " GenerateMessage(300, True)"
   ]
  },
  {
   "cell_type": "code",
   "execution_count": null,
   "metadata": {},
   "outputs": [],
   "source": []
  },
  {
   "cell_type": "code",
   "execution_count": 62,
   "metadata": {},
   "outputs": [],
   "source": [
    "def Encrypt(M, public_key):\n",
    "    n, e = public_key\n",
    "    C = pow(M, e, n)\n",
    "    return C"
   ]
  },
  {
   "cell_type": "code",
   "execution_count": 63,
   "metadata": {},
   "outputs": [],
   "source": [
    "def Decrypt(C, private_key, n):\n",
    "    d, p, q = private_key\n",
    "    M = pow(C, d, n)\n",
    "    return M"
   ]
  },
  {
   "cell_type": "code",
   "execution_count": 64,
   "metadata": {},
   "outputs": [],
   "source": [
    "def Sign(M, private_key, n):\n",
    "    d, p, q = private_key\n",
    "    S = pow(M, d, n)\n",
    "    return S"
   ]
  },
  {
   "cell_type": "code",
   "execution_count": 65,
   "metadata": {},
   "outputs": [],
   "source": [
    "def Verify(M, S, public_key):\n",
    "    n, e = public_key\n",
    "    return M == pow(S, e, n)"
   ]
  },
  {
   "cell_type": "markdown",
   "metadata": {},
   "source": [
    "\n",
    "Testing procedures"
   ]
  },
  {
   "cell_type": "code",
   "execution_count": 67,
   "metadata": {},
   "outputs": [],
   "source": [
    "M =  GenerateMessage(300, False)"
   ]
  },
  {
   "cell_type": "code",
   "execution_count": 68,
   "metadata": {},
   "outputs": [
    {
     "data": {
      "text/plain": [
       "401293440586674101090015747396028130876339686567517740009709497022645425548081817974070830172020391841633385721814710027986193271287794223469906039040813742167180132202755206705753277589661939307305106898620737915559196383376205171884432350804667978126530098013978180678587438617398157768782066560346009031231266"
      ]
     },
     "execution_count": 68,
     "metadata": {},
     "output_type": "execute_result"
    }
   ],
   "source": [
    "C_A = Encrypt(M, public_key_A)\n",
    "C_A"
   ]
  },
  {
   "cell_type": "code",
   "execution_count": 69,
   "metadata": {},
   "outputs": [
    {
     "data": {
      "text/plain": [
       "1901635554202948125109111944544541164476206632461322671629713304778335602540702489362581017"
      ]
     },
     "execution_count": 69,
     "metadata": {},
     "output_type": "execute_result"
    }
   ],
   "source": [
    "D_A = Decrypt(C_A, private_key_A, public_key_A[0])\n",
    "D_A"
   ]
  },
  {
   "cell_type": "code",
   "execution_count": 70,
   "metadata": {},
   "outputs": [
    {
     "data": {
      "text/plain": [
       "True"
      ]
     },
     "execution_count": 70,
     "metadata": {},
     "output_type": "execute_result"
    }
   ],
   "source": [
    "M == D_A"
   ]
  },
  {
   "cell_type": "markdown",
   "metadata": {},
   "source": [
    "User A sends key to user B"
   ]
  },
  {
   "cell_type": "code",
   "execution_count": 71,
   "metadata": {},
   "outputs": [],
   "source": [
    "def SendKey(k, public_key_A, public_key_B, private_key_A):\n",
    "    #if key A or key B are hexidecimal, turn them into decimal\n",
    "    if (isinstance(public_key_A[0], str) and isinstance(private_key_A[0], str)) :\n",
    "        public_key_A = int(public_key_A[0], 16), int(public_key_A[1], 16)\n",
    "        private_key_A = int(private_key_A[0], 16), int(private_key_A[1], 16)\n",
    "    if (isinstance(public_key_B[0], str)):\n",
    "        public_key_B = int(public_key_B[0], 16), int(public_key_B[1], 16) \n",
    "    if (isinstance(k, str)):\n",
    "        k = int(k, 16)\n",
    "    n = public_key_A[0]\n",
    "    n1 = public_key_B[0]\n",
    "    if (n1 < n):\n",
    "        raise KeyError('n1 < n')\n",
    "    k1 = Encrypt(k, public_key_B)\n",
    "    S = Sign(k, private_key_A, n)\n",
    "    S1 = Encrypt(S,public_key_B)\n",
    "    return k1, S1"
   ]
  },
  {
   "cell_type": "code",
   "execution_count": 75,
   "metadata": {},
   "outputs": [
    {
     "name": "stdout",
     "output_type": "stream",
     "text": [
      "58329245861941685948984821242862652901014889433787903090589214073258759175113\n"
     ]
    }
   ],
   "source": [
    "k = generate_random_num(256)\n",
    "print(k)"
   ]
  },
  {
   "cell_type": "code",
   "execution_count": 76,
   "metadata": {},
   "outputs": [
    {
     "data": {
      "text/plain": [
       "(275794615897152184901468985957229147002397602149028377878591790025139360613241061447273622379240471181301326002735311126701983206167891760666350489774517186924348928881860370746196592087294818085879097342004108498355991096750706772657856892173744610695941224222624282964756149572354156796811386818205928680206260,\n",
       " 58329245861941685948984821242862652901014889433787903090589214073258759175113)"
      ]
     },
     "execution_count": 76,
     "metadata": {},
     "output_type": "execute_result"
    }
   ],
   "source": [
    "k1, S1 =  SendKey(k, public_key_A, public_key_B, private_key_A)\n",
    "k1, S1"
   ]
  },
  {
   "cell_type": "code",
   "execution_count": 77,
   "metadata": {},
   "outputs": [
    {
     "data": {
      "text/plain": [
       "('0x5fe2891d79691cb4d127a5d031fdd1e1e85b6efcd3d077aea144c3617ee9b9a9de56c3d92e18062e2e902e00f954b35892255111ef9ede81cf8e6240f1c0e70d9176b4efca5b7989dfcdfb4cdf11f892733c7f3cda1b12621055a87e2688a4fb167d20206c3db4a4c97a88ead0724d30ca61c64ff5a6e3150bb646d6d4229c22fb4',\n",
       " '0x80f52ee729258d171508c93d30bc49dcf8763c7ca8c62f91e75c352764943bc9')"
      ]
     },
     "execution_count": 77,
     "metadata": {},
     "output_type": "execute_result"
    }
   ],
   "source": [
    "hex(k1), hex(S1)"
   ]
  },
  {
   "cell_type": "markdown",
   "metadata": {},
   "source": [
    "User B receives key from A"
   ]
  },
  {
   "cell_type": "code",
   "execution_count": null,
   "metadata": {},
   "outputs": [],
   "source": []
  },
  {
   "cell_type": "code",
   "execution_count": 78,
   "metadata": {},
   "outputs": [],
   "source": [
    "def ReceiveKey(k1, S1, public_key_B, private_key_B, public_key_A):\n",
    "    n1 = public_key_B[0]\n",
    "    k = Decrypt(k1, private_key_B, n1)\n",
    "    S = Decrypt(S1, private_key_B, n1)\n",
    "    assert Verify(k, S, public_key_A)\n",
    "    print('verified')\n",
    "    return k"
   ]
  },
  {
   "cell_type": "code",
   "execution_count": 81,
   "metadata": {},
   "outputs": [
    {
     "name": "stdout",
     "output_type": "stream",
     "text": [
      "verified\n"
     ]
    },
    {
     "data": {
      "text/plain": [
       "58329245861941685948984821242862652901014889433787903090589214073258759175113"
      ]
     },
     "execution_count": 81,
     "metadata": {},
     "output_type": "execute_result"
    }
   ],
   "source": [
    "k = ReceiveKey(k1, S1, public_key_B, private_key_B, public_key_A)\n",
    "k"
   ]
  },
  {
   "cell_type": "code",
   "execution_count": null,
   "metadata": {},
   "outputs": [],
   "source": []
  },
  {
   "cell_type": "code",
   "execution_count": null,
   "metadata": {},
   "outputs": [],
   "source": []
  }
 ],
 "metadata": {
  "kernelspec": {
   "display_name": "Python 3",
   "language": "python",
   "name": "python3"
  },
  "language_info": {
   "codemirror_mode": {
    "name": "ipython",
    "version": 3
   },
   "file_extension": ".py",
   "mimetype": "text/x-python",
   "name": "python",
   "nbconvert_exporter": "python",
   "pygments_lexer": "ipython3",
   "version": "3.6.7"
  }
 },
 "nbformat": 4,
 "nbformat_minor": 2
}
